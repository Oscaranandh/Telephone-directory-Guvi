{
 "cells": [
  {
   "cell_type": "code",
   "execution_count": 27,
   "id": "aa2c149a",
   "metadata": {},
   "outputs": [
    {
     "name": "stdout",
     "output_type": "stream",
     "text": [
      "{'_id': ObjectId('63a139ba524a94f1c2115cd8'), 'name': 'Ashok', 'phoneNo': 123445678, 'places': 'coimbatore'}\n",
      "{'_id': ObjectId('63a139ba524a94f1c2115cd9'), 'name': 'Anandh', 'phoneNo': 98765421, 'places': 'bangalore'}\n",
      "{'_id': ObjectId('63a139ba524a94f1c2115cdb'), 'name': 'Aravind', 'phoneNo': 56846382, 'places': 'Madras'}\n",
      "{'_id': ObjectId('63a139ce524a94f1c2115cdd'), 'name': 'Ashok', 'phoneNo': 123445678, 'places': 'coimbatore'}\n",
      "{'_id': ObjectId('63a139ce524a94f1c2115cde'), 'name': 'Anandh', 'phoneNo': 98765421, 'places': 'bangalore'}\n",
      "{'_id': ObjectId('63a139ce524a94f1c2115cdf'), 'name': 'Abishek', 'phoneNo': 73846382, 'places': 'Mysore'}\n",
      "{'_id': ObjectId('63a139ce524a94f1c2115ce0'), 'name': 'Aravind', 'phoneNo': 56846382, 'places': 'Madras'}\n",
      "{'_id': ObjectId('63a13fad524a94f1c2115cee'), 'name': 'Ashok', 'phoneNo': 123445678, 'places': 'coimbatore'}\n",
      "{'_id': ObjectId('63a13fad524a94f1c2115cef'), 'name': 'Anandh', 'phoneNo': 98765421, 'places': 'bangalore'}\n",
      "{'_id': ObjectId('63a13fad524a94f1c2115cf0'), 'name': 'Abishek', 'phoneNo': 73846382, 'places': 'Mysore'}\n",
      "{'_id': ObjectId('63a13fad524a94f1c2115cf1'), 'name': 'Aravind', 'phoneNo': 56846382, 'places': 'chennai'}\n"
     ]
    },
    {
     "data": {
      "text/plain": [
       "<pymongo.results.DeleteResult at 0x1ac689d2460>"
      ]
     },
     "execution_count": 27,
     "metadata": {},
     "output_type": "execute_result"
    }
   ],
   "source": [
    "import pymongo\n",
    "\n",
    "client=pymongo.MongoClient(\"mongodb://localhost:27017/\")\n",
    "db = client[\"TelephoneDirectory\"]\n",
    "mycol = db[\"Customers\"]\n",
    "mydict=[{\"name\":\"Ashok\",\"phoneNo\":123445678,\"places\":\"coimbatore\"},{\"name\":\"Anandh\",\"phoneNo\":98765421,\"places\":\"bangalore\"},\n",
    "        {\"name\":\"Abishek\",\"phoneNo\":73846382,\"places\":\"Mysore\"},{\"name\":\"Aravind\",\"phoneNo\":56846382,\"places\":\"chennai\"}]\n",
    "x=mycol.insert_many(mydict)\n",
    "for x in mycol.find():\n",
    "    print(x)\n",
    "myquery={\"places\": \"chennai\"}\n",
    "newvalues={\"$set\":{\"places\":\"Madras\"}}\n",
    "mycol.update_one(myquery, newvalues)\n",
    "myQuery={\"places\":\"Mysore\"}\n",
    "mycol.delete_one(myQuery)\n"
   ]
  },
  {
   "cell_type": "code",
   "execution_count": null,
   "id": "4df6ea6d",
   "metadata": {},
   "outputs": [],
   "source": []
  }
 ],
 "metadata": {
  "kernelspec": {
   "display_name": "Python 3 (ipykernel)",
   "language": "python",
   "name": "python3"
  },
  "language_info": {
   "codemirror_mode": {
    "name": "ipython",
    "version": 3
   },
   "file_extension": ".py",
   "mimetype": "text/x-python",
   "name": "python",
   "nbconvert_exporter": "python",
   "pygments_lexer": "ipython3",
   "version": "3.9.13"
  }
 },
 "nbformat": 4,
 "nbformat_minor": 5
}
